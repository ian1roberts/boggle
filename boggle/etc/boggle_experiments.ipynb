{
 "cells": [
  {
   "cell_type": "markdown",
   "id": "5dd85ba4",
   "metadata": {},
   "source": [
    "# Optimisation Experiment\n",
    "Investigate if its possible to computationally define pathways without having to enumerate all possible paths?\n",
    "\n",
    "## 1. Enumerate diagonals\n",
    "Boggle grids are symmetrical, therefore should only need to enumerate upper-left triangle. Lower-right triangle is mirror image?"
   ]
  },
  {
   "cell_type": "code",
   "execution_count": 19,
   "id": "6dae60ce",
   "metadata": {},
   "outputs": [],
   "source": [
    "from boggle.grid import Grid\n",
    "from boggle.moves import Moves\n",
    "import boggle.paths as bp"
   ]
  },
  {
   "cell_type": "code",
   "execution_count": 2,
   "id": "d1fd5c0f",
   "metadata": {},
   "outputs": [],
   "source": [
    "g = Grid(\"cat dog hog\")"
   ]
  },
  {
   "cell_type": "code",
   "execution_count": 4,
   "id": "fc910efa",
   "metadata": {},
   "outputs": [],
   "source": [
    "m = Moves(g)"
   ]
  },
  {
   "cell_type": "code",
   "execution_count": 5,
   "id": "8fff89cd",
   "metadata": {},
   "outputs": [
    {
     "name": "stdout",
     "output_type": "stream",
     "text": [
      "Graph with 9 nodes and 20 edges\n"
     ]
    }
   ],
   "source": [
    "print(m.graph)"
   ]
  },
  {
   "cell_type": "code",
   "execution_count": 6,
   "id": "586628a3",
   "metadata": {},
   "outputs": [
    {
     "data": {
      "text/plain": [
       "[(0, 0), (0, 1), (0, 2), (1, 0), (1, 1), (1, 2), (2, 0), (2, 1), (2, 2)]"
      ]
     },
     "execution_count": 6,
     "metadata": {},
     "output_type": "execute_result"
    }
   ],
   "source": [
    "g.coords"
   ]
  },
  {
   "cell_type": "code",
   "execution_count": 7,
   "id": "b8f08981",
   "metadata": {},
   "outputs": [],
   "source": [
    "import multiprocessing\n",
    "from boggle.paths import (\n",
    "    do_compute_chains,\n",
    "    do_chains_to_words\n",
    ")\n",
    "p = multiprocessing.Pool(4)\n",
    "xargs = []\n",
    "for coord in g.coords:\n",
    "    xargs.append((coord, m, 9)) "
   ]
  },
  {
   "cell_type": "code",
   "execution_count": 8,
   "id": "587df744",
   "metadata": {},
   "outputs": [],
   "source": [
    "board = p.map(do_compute_chains, xargs)"
   ]
  },
  {
   "cell_type": "code",
   "execution_count": 10,
   "id": "396e5652",
   "metadata": {},
   "outputs": [
    {
     "name": "stdout",
     "output_type": "stream",
     "text": [
      "f6f8ad_yyy.png\n"
     ]
    },
    {
     "data": {
      "image/png": "[encoded data removed]",
      "text/plain": [
       "<IPython.core.display.Image object>"
      ]
     },
     "execution_count": 10,
     "metadata": {},
     "output_type": "execute_result"
    }
   ],
   "source": [
    "import os\n",
    "from IPython.display import Image\n",
    "from glob import glob\n",
    "m.draw_board(fn='yyy.png')\n",
    "fn = glob(f'*yyy.png')[0]\n",
    "Image(fn)"
   ]
  },
  {
   "cell_type": "code",
   "execution_count": 11,
   "id": "1ca98339",
   "metadata": {},
   "outputs": [],
   "source": [
    "os.unlink(fn)"
   ]
  },
  {
   "cell_type": "code",
   "execution_count": 13,
   "id": "06117a26",
   "metadata": {},
   "outputs": [],
   "source": [
    "o, dg, ps = board[0]"
   ]
  },
  {
   "cell_type": "code",
   "execution_count": 14,
   "id": "2eb4a6c6",
   "metadata": {},
   "outputs": [
    {
     "name": "stdout",
     "output_type": "stream",
     "text": [
      "DiGraph with 1373 nodes and 1372 edges\n"
     ]
    }
   ],
   "source": [
    "print(dg)"
   ]
  },
  {
   "cell_type": "code",
   "execution_count": 24,
   "id": "2ee945b4",
   "metadata": {},
   "outputs": [
    {
     "name": "stdout",
     "output_type": "stream",
     "text": [
      "(0, {'tier': 0, 'coord': (0, 0)}) (0, 1, {})\n",
      "(1, {'tier': 1, 'coord': (1, 0)}) (0, 2, {})\n",
      "(2, {'tier': 1, 'coord': (1, 1)}) (0, 3, {})\n",
      "(3, {'tier': 1, 'coord': (0, 1)}) (1, 4, {})\n",
      "(4, {'tier': 2, 'coord': (0, 1)}) (1, 6, {})\n"
     ]
    }
   ],
   "source": [
    "for nd, ed in zip(list(dg.nodes(data=True))[0:5], list(dg.edges(data=True))):\n",
    "    print(nd, ed)"
   ]
  },
  {
   "cell_type": "code",
   "execution_count": 20,
   "id": "844c6026",
   "metadata": {},
   "outputs": [
    {
     "name": "stdout",
     "output_type": "stream",
     "text": [
      "ori: (0, 0)\ttier: 0\tnode: 1\n",
      "ori: (0, 0)\ttier: 1\tnode: 4\n",
      "ori: (0, 0)\ttier: 2\tnode: 19\n"
     ]
    },
    {
     "data": {
      "text/plain": [
       "<networkx.classes.digraph.DiGraph at 0x26bf4223070>"
      ]
     },
     "execution_count": 20,
     "metadata": {},
     "output_type": "execute_result"
    }
   ],
   "source": [
    "bp.make_digraph((0,0), m, 3)"
   ]
  },
  {
   "cell_type": "code",
   "execution_count": null,
   "id": "22fb6401",
   "metadata": {},
   "outputs": [],
   "source": []
  }
 ],
 "metadata": {
  "kernelspec": {
   "display_name": "Python 3 (ipykernel)",
   "language": "python",
   "name": "python3"
  },
  "language_info": {
   "codemirror_mode": {
    "name": "ipython",
    "version": 3
   },
   "file_extension": ".py",
   "mimetype": "text/x-python",
   "name": "python",
   "nbconvert_exporter": "python",
   "pygments_lexer": "ipython3",
   "version": "3.9.6"
  }
 },
 "nbformat": 4,
 "nbformat_minor": 5
}
